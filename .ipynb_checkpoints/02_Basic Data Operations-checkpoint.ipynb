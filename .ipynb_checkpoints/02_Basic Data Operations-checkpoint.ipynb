{
 "cells": [
  {
   "cell_type": "code",
   "execution_count": null,
   "metadata": {},
   "outputs": [],
   "source": [
    "'''\n",
    "Data Science BI suit\n",
    "   SQL - data store and retrieve\n",
    "   ETL - transfer and manipulate data\n",
    "   Tableau -  Visualization\n",
    "   Data Science - Predict pattern\n",
    "'''"
   ]
  },
  {
   "cell_type": "markdown",
   "metadata": {},
   "source": [
    "# Loading Data and Data Clean up "
   ]
  },
  {
   "cell_type": "code",
   "execution_count": 1,
   "metadata": {},
   "outputs": [],
   "source": [
    "import pandas as pd  #import Panda library"
   ]
  },
  {
   "cell_type": "code",
   "execution_count": null,
   "metadata": {},
   "outputs": [],
   "source": []
  },
  {
   "cell_type": "markdown",
   "metadata": {},
   "source": [
    "View Sample"
   ]
  },
  {
   "cell_type": "code",
   "execution_count": 10,
   "metadata": {},
   "outputs": [
    {
     "data": {
      "text/html": [
       "<div>\n",
       "<style scoped>\n",
       "    .dataframe tbody tr th:only-of-type {\n",
       "        vertical-align: middle;\n",
       "    }\n",
       "\n",
       "    .dataframe tbody tr th {\n",
       "        vertical-align: top;\n",
       "    }\n",
       "\n",
       "    .dataframe thead th {\n",
       "        text-align: right;\n",
       "    }\n",
       "</style>\n",
       "<table border=\"1\" class=\"dataframe\">\n",
       "  <thead>\n",
       "    <tr style=\"text-align: right;\">\n",
       "      <th></th>\n",
       "      <th>ReportDt|Unit|Power</th>\n",
       "    </tr>\n",
       "  </thead>\n",
       "  <tbody>\n",
       "    <tr>\n",
       "      <th>0</th>\n",
       "      <td>12/31/2009|Arkansas Nuclear 1|100</td>\n",
       "    </tr>\n",
       "    <tr>\n",
       "      <th>1</th>\n",
       "      <td>12/31/2009|Arkansas Nuclear 2|100</td>\n",
       "    </tr>\n",
       "    <tr>\n",
       "      <th>2</th>\n",
       "      <td>12/31/2009|Beaver Valley 1|100</td>\n",
       "    </tr>\n",
       "    <tr>\n",
       "      <th>3</th>\n",
       "      <td>12/31/2009|Beaver Valley 2|100</td>\n",
       "    </tr>\n",
       "    <tr>\n",
       "      <th>4</th>\n",
       "      <td>12/31/2009|Braidwood 1|100</td>\n",
       "    </tr>\n",
       "  </tbody>\n",
       "</table>\n",
       "</div>"
      ],
      "text/plain": [
       "                 ReportDt|Unit|Power\n",
       "0  12/31/2009|Arkansas Nuclear 1|100\n",
       "1  12/31/2009|Arkansas Nuclear 2|100\n",
       "2     12/31/2009|Beaver Valley 1|100\n",
       "3     12/31/2009|Beaver Valley 2|100\n",
       "4         12/31/2009|Braidwood 1|100"
      ]
     },
     "execution_count": 10,
     "metadata": {},
     "output_type": "execute_result"
    }
   ],
   "source": [
    "#pipe delimited sample data\n",
    "reads = pd.read_table('https://www.nrc.gov/reading-rm/doc-collections/event-status/reactor-status/2009/2009PowerStatus.txt')\n",
    "reads.head()"
   ]
  },
  {
   "cell_type": "code",
   "execution_count": 11,
   "metadata": {},
   "outputs": [
    {
     "data": {
      "text/html": [
       "<div>\n",
       "<style scoped>\n",
       "    .dataframe tbody tr th:only-of-type {\n",
       "        vertical-align: middle;\n",
       "    }\n",
       "\n",
       "    .dataframe tbody tr th {\n",
       "        vertical-align: top;\n",
       "    }\n",
       "\n",
       "    .dataframe thead th {\n",
       "        text-align: right;\n",
       "    }\n",
       "</style>\n",
       "<table border=\"1\" class=\"dataframe\">\n",
       "  <thead>\n",
       "    <tr style=\"text-align: right;\">\n",
       "      <th></th>\n",
       "      <th>ReportDt</th>\n",
       "      <th>Unit</th>\n",
       "      <th>Power</th>\n",
       "    </tr>\n",
       "  </thead>\n",
       "  <tbody>\n",
       "    <tr>\n",
       "      <th>0</th>\n",
       "      <td>12/31/2009</td>\n",
       "      <td>Arkansas Nuclear 1</td>\n",
       "      <td>100</td>\n",
       "    </tr>\n",
       "    <tr>\n",
       "      <th>1</th>\n",
       "      <td>12/31/2009</td>\n",
       "      <td>Arkansas Nuclear 2</td>\n",
       "      <td>100</td>\n",
       "    </tr>\n",
       "    <tr>\n",
       "      <th>2</th>\n",
       "      <td>12/31/2009</td>\n",
       "      <td>Beaver Valley 1</td>\n",
       "      <td>100</td>\n",
       "    </tr>\n",
       "    <tr>\n",
       "      <th>3</th>\n",
       "      <td>12/31/2009</td>\n",
       "      <td>Beaver Valley 2</td>\n",
       "      <td>100</td>\n",
       "    </tr>\n",
       "    <tr>\n",
       "      <th>4</th>\n",
       "      <td>12/31/2009</td>\n",
       "      <td>Braidwood 1</td>\n",
       "      <td>100</td>\n",
       "    </tr>\n",
       "  </tbody>\n",
       "</table>\n",
       "</div>"
      ],
      "text/plain": [
       "     ReportDt                Unit  Power\n",
       "0  12/31/2009  Arkansas Nuclear 1    100\n",
       "1  12/31/2009  Arkansas Nuclear 2    100\n",
       "2  12/31/2009     Beaver Valley 1    100\n",
       "3  12/31/2009     Beaver Valley 2    100\n",
       "4  12/31/2009         Braidwood 1    100"
      ]
     },
     "execution_count": 11,
     "metadata": {},
     "output_type": "execute_result"
    }
   ],
   "source": [
    "#Pipe Separator \n",
    "reads = pd.read_table('https://www.nrc.gov/reading-rm/doc-collections/event-status/reactor-status/2009/2009PowerStatus.txt', sep='|')\n",
    "reads.head()"
   ]
  },
  {
   "cell_type": "code",
   "execution_count": null,
   "metadata": {},
   "outputs": [],
   "source": []
  },
  {
   "cell_type": "code",
   "execution_count": 12,
   "metadata": {},
   "outputs": [
    {
     "data": {
      "text/html": [
       "<div>\n",
       "<style scoped>\n",
       "    .dataframe tbody tr th:only-of-type {\n",
       "        vertical-align: middle;\n",
       "    }\n",
       "\n",
       "    .dataframe tbody tr th {\n",
       "        vertical-align: top;\n",
       "    }\n",
       "\n",
       "    .dataframe thead th {\n",
       "        text-align: right;\n",
       "    }\n",
       "</style>\n",
       "<table border=\"1\" class=\"dataframe\">\n",
       "  <thead>\n",
       "    <tr style=\"text-align: right;\">\n",
       "      <th></th>\n",
       "      <th>Name</th>\n",
       "      <th>Position</th>\n",
       "      <th>Office</th>\n",
       "      <th>Age</th>\n",
       "      <th>Start date</th>\n",
       "      <th>Salary</th>\n",
       "    </tr>\n",
       "  </thead>\n",
       "  <tbody>\n",
       "    <tr>\n",
       "      <th>0</th>\n",
       "      <td>Airi Satou</td>\n",
       "      <td>Accountant</td>\n",
       "      <td>Tokyo</td>\n",
       "      <td>33</td>\n",
       "      <td>2008/11/28</td>\n",
       "      <td>$162,700</td>\n",
       "    </tr>\n",
       "    <tr>\n",
       "      <th>1</th>\n",
       "      <td>Angelica Ramos</td>\n",
       "      <td>Chief Executive Officer (CEO)</td>\n",
       "      <td>London</td>\n",
       "      <td>47</td>\n",
       "      <td>2009/10/09</td>\n",
       "      <td>$1,200,000</td>\n",
       "    </tr>\n",
       "    <tr>\n",
       "      <th>2</th>\n",
       "      <td>Ashton Cox</td>\n",
       "      <td>Junior Technical Author</td>\n",
       "      <td>San Francisco</td>\n",
       "      <td>66</td>\n",
       "      <td>2009/01/12</td>\n",
       "      <td>$86,000</td>\n",
       "    </tr>\n",
       "    <tr>\n",
       "      <th>3</th>\n",
       "      <td>Bradley Greer</td>\n",
       "      <td>Software Engineer</td>\n",
       "      <td>London</td>\n",
       "      <td>41</td>\n",
       "      <td>2012/10/13</td>\n",
       "      <td>$132,000</td>\n",
       "    </tr>\n",
       "    <tr>\n",
       "      <th>4</th>\n",
       "      <td>Brenden Wagner</td>\n",
       "      <td>Software Engineer</td>\n",
       "      <td>San Francisco</td>\n",
       "      <td>28</td>\n",
       "      <td>2011/06/07</td>\n",
       "      <td>$206,850</td>\n",
       "    </tr>\n",
       "  </tbody>\n",
       "</table>\n",
       "</div>"
      ],
      "text/plain": [
       "             Name                       Position         Office  Age  \\\n",
       "0      Airi Satou                     Accountant          Tokyo   33   \n",
       "1  Angelica Ramos  Chief Executive Officer (CEO)         London   47   \n",
       "2      Ashton Cox        Junior Technical Author  San Francisco   66   \n",
       "3   Bradley Greer              Software Engineer         London   41   \n",
       "4  Brenden Wagner              Software Engineer  San Francisco   28   \n",
       "\n",
       "   Start date      Salary  \n",
       "0  2008/11/28    $162,700  \n",
       "1  2009/10/09  $1,200,000  \n",
       "2  2009/01/12     $86,000  \n",
       "3  2012/10/13    $132,000  \n",
       "4  2011/06/07    $206,850  "
      ]
     },
     "execution_count": 12,
     "metadata": {},
     "output_type": "execute_result"
    }
   ],
   "source": [
    "#tsv\n",
    "employee = pd.read_table('DataTablesExample_TSV.tsv')\n",
    "employee.head()"
   ]
  },
  {
   "cell_type": "code",
   "execution_count": 13,
   "metadata": {},
   "outputs": [
    {
     "data": {
      "text/html": [
       "<div>\n",
       "<style scoped>\n",
       "    .dataframe tbody tr th:only-of-type {\n",
       "        vertical-align: middle;\n",
       "    }\n",
       "\n",
       "    .dataframe tbody tr th {\n",
       "        vertical-align: top;\n",
       "    }\n",
       "\n",
       "    .dataframe thead th {\n",
       "        text-align: right;\n",
       "    }\n",
       "</style>\n",
       "<table border=\"1\" class=\"dataframe\">\n",
       "  <thead>\n",
       "    <tr style=\"text-align: right;\">\n",
       "      <th></th>\n",
       "      <th>Name</th>\n",
       "      <th>Position</th>\n",
       "    </tr>\n",
       "  </thead>\n",
       "  <tbody>\n",
       "    <tr>\n",
       "      <th>0</th>\n",
       "      <td>Airi Satou</td>\n",
       "      <td>Accountant</td>\n",
       "    </tr>\n",
       "    <tr>\n",
       "      <th>1</th>\n",
       "      <td>Angelica Ramos</td>\n",
       "      <td>Chief Executive Officer (CEO)</td>\n",
       "    </tr>\n",
       "    <tr>\n",
       "      <th>2</th>\n",
       "      <td>Ashton Cox</td>\n",
       "      <td>Junior Technical Author</td>\n",
       "    </tr>\n",
       "    <tr>\n",
       "      <th>3</th>\n",
       "      <td>Bradley Greer</td>\n",
       "      <td>Software Engineer</td>\n",
       "    </tr>\n",
       "    <tr>\n",
       "      <th>4</th>\n",
       "      <td>Brenden Wagner</td>\n",
       "      <td>Software Engineer</td>\n",
       "    </tr>\n",
       "  </tbody>\n",
       "</table>\n",
       "</div>"
      ],
      "text/plain": [
       "             Name                       Position\n",
       "0      Airi Satou                     Accountant\n",
       "1  Angelica Ramos  Chief Executive Officer (CEO)\n",
       "2      Ashton Cox        Junior Technical Author\n",
       "3   Bradley Greer              Software Engineer\n",
       "4  Brenden Wagner              Software Engineer"
      ]
     },
     "execution_count": 13,
     "metadata": {},
     "output_type": "execute_result"
    }
   ],
   "source": [
    "#choose certain columns\n",
    "cols=['Name','Position']\n",
    "employee = pd.read_table('DataTablesExample_TSV.tsv')\n",
    "employee[cols].head()"
   ]
  },
  {
   "cell_type": "code",
   "execution_count": 14,
   "metadata": {},
   "outputs": [
    {
     "data": {
      "text/html": [
       "<div>\n",
       "<style scoped>\n",
       "    .dataframe tbody tr th:only-of-type {\n",
       "        vertical-align: middle;\n",
       "    }\n",
       "\n",
       "    .dataframe tbody tr th {\n",
       "        vertical-align: top;\n",
       "    }\n",
       "\n",
       "    .dataframe thead th {\n",
       "        text-align: right;\n",
       "    }\n",
       "</style>\n",
       "<table border=\"1\" class=\"dataframe\">\n",
       "  <thead>\n",
       "    <tr style=\"text-align: right;\">\n",
       "      <th></th>\n",
       "      <th>Name</th>\n",
       "      <th>Position</th>\n",
       "      <th>Office</th>\n",
       "      <th>Age</th>\n",
       "      <th>Start date</th>\n",
       "      <th>Salary</th>\n",
       "    </tr>\n",
       "  </thead>\n",
       "  <tbody>\n",
       "    <tr>\n",
       "      <th>0</th>\n",
       "      <td>Airi Satou</td>\n",
       "      <td>Accountant</td>\n",
       "      <td>Tokyo</td>\n",
       "      <td>33</td>\n",
       "      <td>2008/11/28</td>\n",
       "      <td>$162,700</td>\n",
       "    </tr>\n",
       "    <tr>\n",
       "      <th>1</th>\n",
       "      <td>Angelica Ramos</td>\n",
       "      <td>Chief Executive Officer (CEO)</td>\n",
       "      <td>London</td>\n",
       "      <td>47</td>\n",
       "      <td>2009/10/09</td>\n",
       "      <td>$1,200,000</td>\n",
       "    </tr>\n",
       "    <tr>\n",
       "      <th>2</th>\n",
       "      <td>Ashton Cox</td>\n",
       "      <td>Junior Technical Author</td>\n",
       "      <td>San Francisco</td>\n",
       "      <td>66</td>\n",
       "      <td>2009/01/12</td>\n",
       "      <td>$86,000</td>\n",
       "    </tr>\n",
       "    <tr>\n",
       "      <th>3</th>\n",
       "      <td>Bradley Greer</td>\n",
       "      <td>Software Engineer</td>\n",
       "      <td>London</td>\n",
       "      <td>41</td>\n",
       "      <td>2012/10/13</td>\n",
       "      <td>$132,000</td>\n",
       "    </tr>\n",
       "  </tbody>\n",
       "</table>\n",
       "</div>"
      ],
      "text/plain": [
       "             Name                       Position         Office  Age  \\\n",
       "0      Airi Satou                     Accountant          Tokyo   33   \n",
       "1  Angelica Ramos  Chief Executive Officer (CEO)         London   47   \n",
       "2      Ashton Cox        Junior Technical Author  San Francisco   66   \n",
       "3   Bradley Greer              Software Engineer         London   41   \n",
       "\n",
       "   Start date      Salary  \n",
       "0  2008/11/28    $162,700  \n",
       "1  2009/10/09  $1,200,000  \n",
       "2  2009/01/12     $86,000  \n",
       "3  2012/10/13    $132,000  "
      ]
     },
     "execution_count": 14,
     "metadata": {},
     "output_type": "execute_result"
    }
   ],
   "source": [
    "#choose certain rows\n",
    "employee = pd.read_table('DataTablesExample_TSV.tsv', nrows = 4)\n",
    "employee"
   ]
  },
  {
   "cell_type": "code",
   "execution_count": null,
   "metadata": {},
   "outputs": [],
   "source": []
  },
  {
   "cell_type": "markdown",
   "metadata": {},
   "source": [
    "Data types"
   ]
  },
  {
   "cell_type": "code",
   "execution_count": 15,
   "metadata": {},
   "outputs": [
    {
     "data": {
      "text/plain": [
       "Name          object\n",
       "Position      object\n",
       "Office        object\n",
       "Age            int64\n",
       "Start date    object\n",
       "Salary        object\n",
       "dtype: object"
      ]
     },
     "execution_count": 15,
     "metadata": {},
     "output_type": "execute_result"
    }
   ],
   "source": [
    "#display datatypes\n",
    "employee = pd.read_table('DataTablesExample_TSV.tsv')\n",
    "employee.dtypes"
   ]
  },
  {
   "cell_type": "code",
   "execution_count": 16,
   "metadata": {},
   "outputs": [
    {
     "data": {
      "text/plain": [
       "Age    int64\n",
       "dtype: object"
      ]
     },
     "execution_count": 16,
     "metadata": {},
     "output_type": "execute_result"
    }
   ],
   "source": [
    "#display integer datatypes\n",
    "import numpy as np\n",
    "\n",
    "employee = pd.read_table('DataTablesExample_TSV.tsv')\n",
    "employee.select_dtypes(include = [np.number]).dtypes"
   ]
  },
  {
   "cell_type": "code",
   "execution_count": null,
   "metadata": {},
   "outputs": [],
   "source": []
  },
  {
   "cell_type": "markdown",
   "metadata": {},
   "source": [
    "inbuilt methods for data analysis"
   ]
  },
  {
   "cell_type": "code",
   "execution_count": 17,
   "metadata": {},
   "outputs": [
    {
     "data": {
      "text/html": [
       "<div>\n",
       "<style scoped>\n",
       "    .dataframe tbody tr th:only-of-type {\n",
       "        vertical-align: middle;\n",
       "    }\n",
       "\n",
       "    .dataframe tbody tr th {\n",
       "        vertical-align: top;\n",
       "    }\n",
       "\n",
       "    .dataframe thead th {\n",
       "        text-align: right;\n",
       "    }\n",
       "</style>\n",
       "<table border=\"1\" class=\"dataframe\">\n",
       "  <thead>\n",
       "    <tr style=\"text-align: right;\">\n",
       "      <th></th>\n",
       "      <th>Age</th>\n",
       "    </tr>\n",
       "  </thead>\n",
       "  <tbody>\n",
       "    <tr>\n",
       "      <th>count</th>\n",
       "      <td>57.000000</td>\n",
       "    </tr>\n",
       "    <tr>\n",
       "      <th>mean</th>\n",
       "      <td>42.736842</td>\n",
       "    </tr>\n",
       "    <tr>\n",
       "      <th>std</th>\n",
       "      <td>14.877507</td>\n",
       "    </tr>\n",
       "    <tr>\n",
       "      <th>min</th>\n",
       "      <td>19.000000</td>\n",
       "    </tr>\n",
       "    <tr>\n",
       "      <th>25%</th>\n",
       "      <td>30.000000</td>\n",
       "    </tr>\n",
       "    <tr>\n",
       "      <th>50%</th>\n",
       "      <td>42.000000</td>\n",
       "    </tr>\n",
       "    <tr>\n",
       "      <th>75%</th>\n",
       "      <td>56.000000</td>\n",
       "    </tr>\n",
       "    <tr>\n",
       "      <th>max</th>\n",
       "      <td>66.000000</td>\n",
       "    </tr>\n",
       "  </tbody>\n",
       "</table>\n",
       "</div>"
      ],
      "text/plain": [
       "             Age\n",
       "count  57.000000\n",
       "mean   42.736842\n",
       "std    14.877507\n",
       "min    19.000000\n",
       "25%    30.000000\n",
       "50%    42.000000\n",
       "75%    56.000000\n",
       "max    66.000000"
      ]
     },
     "execution_count": 17,
     "metadata": {},
     "output_type": "execute_result"
    }
   ],
   "source": [
    "employee.describe() #statistics with int"
   ]
  },
  {
   "cell_type": "code",
   "execution_count": 18,
   "metadata": {},
   "outputs": [
    {
     "data": {
      "text/plain": [
       "(57, 6)"
      ]
     },
     "execution_count": 18,
     "metadata": {},
     "output_type": "execute_result"
    }
   ],
   "source": [
    "employee.shape #number of rows and columns"
   ]
  },
  {
   "cell_type": "code",
   "execution_count": 19,
   "metadata": {},
   "outputs": [
    {
     "data": {
      "text/plain": [
       "pandas.core.frame.DataFrame"
      ]
     },
     "execution_count": 19,
     "metadata": {},
     "output_type": "execute_result"
    }
   ],
   "source": [
    "type(employee) #type of object"
   ]
  },
  {
   "cell_type": "code",
   "execution_count": null,
   "metadata": {},
   "outputs": [],
   "source": []
  },
  {
   "cell_type": "code",
   "execution_count": null,
   "metadata": {},
   "outputs": [],
   "source": [
    "employee = pd.read_table('C:/Users/LocalAdmin/Documents/Python/Untitled Folder/DataTablesExample_TSV.tsv')\n",
    "employee.head()"
   ]
  },
  {
   "cell_type": "code",
   "execution_count": null,
   "metadata": {},
   "outputs": [],
   "source": [
    "#concatinating 2 columns\n",
    "employee['Name Salary']=employee['Name']+employee['Salary']\n",
    "employee.head()"
   ]
  },
  {
   "cell_type": "code",
   "execution_count": null,
   "metadata": {},
   "outputs": [],
   "source": [
    "employee.drop('Office', axis=1, inplace=True)\n",
    "employee.head()"
   ]
  },
  {
   "cell_type": "code",
   "execution_count": null,
   "metadata": {},
   "outputs": [],
   "source": [
    "employee = pd.read_table('C:/Users/LocalAdmin/Documents/Python/Untitled Folder/DataTablesExample_TSV.tsv')\n",
    "employee.head()"
   ]
  },
  {
   "cell_type": "code",
   "execution_count": null,
   "metadata": {},
   "outputs": [],
   "source": [
    "#renaming column\n",
    "cols =['Name','Posistion', 'Ofc','Age','SDate','Sal']\n",
    "employee.columns = cols\n",
    "employee.head()"
   ]
  },
  {
   "cell_type": "code",
   "execution_count": null,
   "metadata": {},
   "outputs": [],
   "source": [
    "employee = pd.read_table('C:/Users/LocalAdmin/Documents/Python/Untitled Folder/DataTablesExample_TSV.tsv')\n",
    "employee.head()"
   ]
  },
  {
   "cell_type": "code",
   "execution_count": null,
   "metadata": {},
   "outputs": [],
   "source": [
    "#sorting Data\n",
    "employee.sort_values(by='Age', ascending=True).head()"
   ]
  },
  {
   "cell_type": "code",
   "execution_count": null,
   "metadata": {},
   "outputs": [],
   "source": [
    "employee['Name'].sort_values()"
   ]
  },
  {
   "cell_type": "code",
   "execution_count": null,
   "metadata": {},
   "outputs": [],
   "source": [
    "#filtering\n",
    "employee[employee.Age<25]"
   ]
  },
  {
   "cell_type": "code",
   "execution_count": null,
   "metadata": {},
   "outputs": [],
   "source": [
    "employee[(employee.Age<25) & (employee.Name == 'Shou Itou')]"
   ]
  },
  {
   "cell_type": "code",
   "execution_count": null,
   "metadata": {},
   "outputs": [],
   "source": [
    "cols = ['Name' , 'Position']\n",
    "employee[employee.Age<25][cols].head()"
   ]
  },
  {
   "cell_type": "code",
   "execution_count": null,
   "metadata": {},
   "outputs": [],
   "source": [
    "employee.head()"
   ]
  },
  {
   "cell_type": "code",
   "execution_count": null,
   "metadata": {},
   "outputs": [],
   "source": [
    "employee.mean()"
   ]
  },
  {
   "cell_type": "code",
   "execution_count": null,
   "metadata": {},
   "outputs": [],
   "source": [
    "employee.Name.str.upper().head()"
   ]
  },
  {
   "cell_type": "code",
   "execution_count": null,
   "metadata": {},
   "outputs": [],
   "source": [
    "employee.Name.str.lower().head()"
   ]
  },
  {
   "cell_type": "code",
   "execution_count": null,
   "metadata": {},
   "outputs": [],
   "source": [
    "employee.Position.str.contains('Software')"
   ]
  },
  {
   "cell_type": "code",
   "execution_count": null,
   "metadata": {},
   "outputs": [],
   "source": [
    "employee[employee.Position.str.contains('Software')]"
   ]
  },
  {
   "cell_type": "code",
   "execution_count": null,
   "metadata": {},
   "outputs": [],
   "source": [
    "employee.head()\n",
    "employee.Position.str.replace('Engineer','Developer')"
   ]
  },
  {
   "cell_type": "code",
   "execution_count": null,
   "metadata": {},
   "outputs": [],
   "source": [
    "employee.Age.min()"
   ]
  },
  {
   "cell_type": "code",
   "execution_count": null,
   "metadata": {},
   "outputs": [],
   "source": [
    "employee.Age.max()"
   ]
  },
  {
   "cell_type": "code",
   "execution_count": null,
   "metadata": {},
   "outputs": [],
   "source": [
    "employee.groupby('Position').Age.min()"
   ]
  },
  {
   "cell_type": "code",
   "execution_count": null,
   "metadata": {},
   "outputs": [],
   "source": [
    "employee.groupby('Position').Age.agg(['count','min','max'])"
   ]
  },
  {
   "cell_type": "code",
   "execution_count": null,
   "metadata": {},
   "outputs": [],
   "source": [
    "#loc - choose number of rows and column\n",
    "employee = pd.read_table('C:/Users/LocalAdmin/Documents/Python/Untitled Folder/DataTablesExample_TSV.tsv')\n",
    "\n",
    "#row 0, all col\n",
    "employee.loc[0, :]"
   ]
  },
  {
   "cell_type": "code",
   "execution_count": null,
   "metadata": {},
   "outputs": [],
   "source": [
    "#row 0-2, all col\n",
    "employee.loc[0:2, :]"
   ]
  },
  {
   "cell_type": "code",
   "execution_count": null,
   "metadata": {},
   "outputs": [],
   "source": [
    "#row 0-2, 2 col\n",
    "employee.loc[0:2, ['Name','Position']]"
   ]
  },
  {
   "cell_type": "code",
   "execution_count": null,
   "metadata": {},
   "outputs": [],
   "source": [
    "#row 0-2, 3 col\n",
    "employee.loc[0:2, 'Name':'Office']"
   ]
  },
  {
   "cell_type": "code",
   "execution_count": null,
   "metadata": {},
   "outputs": [],
   "source": [
    "#rows with certain condition\n",
    "employee.loc[employee.Position == 'Accountant',:]"
   ]
  },
  {
   "cell_type": "code",
   "execution_count": null,
   "metadata": {},
   "outputs": [],
   "source": [
    "#dropna - drop rows with missing values\n",
    "employee = pd.read_table('C:/Users/LocalAdmin/Documents/Python/Untitled Folder/dropnaExample_TSV.tsv')\n",
    "employee.head()"
   ]
  },
  {
   "cell_type": "code",
   "execution_count": null,
   "metadata": {},
   "outputs": [],
   "source": [
    "employee.shape"
   ]
  },
  {
   "cell_type": "code",
   "execution_count": null,
   "metadata": {},
   "outputs": [],
   "source": [
    "#drop values with all missing values in any columns\n",
    "employee.dropna(how='any').shape"
   ]
  },
  {
   "cell_type": "code",
   "execution_count": null,
   "metadata": {},
   "outputs": [],
   "source": [
    "#drop values with all missing values in specific columns\n",
    "employee.dropna(subset=['Name','Salary']).shape"
   ]
  },
  {
   "cell_type": "code",
   "execution_count": null,
   "metadata": {},
   "outputs": [],
   "source": [
    "#fillna"
   ]
  },
  {
   "cell_type": "code",
   "execution_count": null,
   "metadata": {},
   "outputs": [],
   "source": []
  },
  {
   "cell_type": "code",
   "execution_count": null,
   "metadata": {},
   "outputs": [],
   "source": [
    "milkprod = pd.read_csv('C:/Users/LocalAdmin/Documents/Python/Untitled Folder/MonthlyMilkProduction.csv')\n",
    "milkprod.head()"
   ]
  },
  {
   "cell_type": "code",
   "execution_count": null,
   "metadata": {},
   "outputs": [],
   "source": [
    "milkprod.plot()"
   ]
  },
  {
   "cell_type": "code",
   "execution_count": null,
   "metadata": {},
   "outputs": [],
   "source": []
  },
  {
   "cell_type": "code",
   "execution_count": null,
   "metadata": {},
   "outputs": [],
   "source": [
    "#joins\n",
    "\n",
    "#create dummy data\n",
    "dataframe1 = pd.DataFrame({\n",
    "    \"employee\":[\"ABC\",\"XYZ\",\"PQR\"],\n",
    "    \"salary\":[\"100000\",\"125000\",\"80000\"]\n",
    "})\n",
    "\n",
    "dataframe1"
   ]
  },
  {
   "cell_type": "code",
   "execution_count": null,
   "metadata": {},
   "outputs": [],
   "source": [
    "dataframe2 = pd.DataFrame({\n",
    "    \"employee\":[\"ABC\",\"XYZ\",\"LMN\"],\n",
    "    \"salary\":[\"100000\",\"125000\",\"90000\"]\n",
    "})\n",
    "\n",
    "dataframe2"
   ]
  },
  {
   "cell_type": "code",
   "execution_count": null,
   "metadata": {},
   "outputs": [],
   "source": [
    "#inner join\n",
    "dataframe3 = pd.merge(dataframe1,dataframe2, on='employee')\n",
    "dataframe3"
   ]
  },
  {
   "cell_type": "code",
   "execution_count": null,
   "metadata": {},
   "outputs": [],
   "source": [
    "#outer join\n",
    "dataframe3 = pd.merge(dataframe1,dataframe2, on='employee', how='outer')\n",
    "dataframe3"
   ]
  },
  {
   "cell_type": "code",
   "execution_count": null,
   "metadata": {},
   "outputs": [],
   "source": [
    "#left join\n",
    "dataframe3 = pd.merge(dataframe1,dataframe2, on='employee', how='left')\n",
    "dataframe3"
   ]
  },
  {
   "cell_type": "code",
   "execution_count": null,
   "metadata": {},
   "outputs": [],
   "source": [
    "#right join\n",
    "dataframe3 = pd.merge(dataframe1,dataframe2, on='employee', how='right')\n",
    "dataframe3"
   ]
  },
  {
   "cell_type": "code",
   "execution_count": null,
   "metadata": {},
   "outputs": [],
   "source": [
    "#pivot\n",
    "webtraffic = pd.read_csv('C:/Users/LocalAdmin/Documents/Python/Untitled Folder/PivotExample.csv')\n",
    "webtraffic"
   ]
  },
  {
   "cell_type": "code",
   "execution_count": null,
   "metadata": {},
   "outputs": [],
   "source": [
    "webtraffic.pivot(index='Page_name', columns='Date')"
   ]
  },
  {
   "cell_type": "code",
   "execution_count": null,
   "metadata": {},
   "outputs": [],
   "source": [
    "#Pivot table\n",
    "webtraffic.pivot_table(index='Page_name', aggfunc='sum')"
   ]
  },
  {
   "cell_type": "code",
   "execution_count": null,
   "metadata": {},
   "outputs": [],
   "source": [
    "#Pivot table\n",
    "webtraffic.pivot_table(index='Page_name', aggfunc='mean')"
   ]
  },
  {
   "cell_type": "code",
   "execution_count": null,
   "metadata": {},
   "outputs": [],
   "source": [
    "#Pivot table\n",
    "webtraffic.pivot_table(index='Page_name', aggfunc='count')"
   ]
  },
  {
   "cell_type": "code",
   "execution_count": null,
   "metadata": {},
   "outputs": [],
   "source": []
  },
  {
   "cell_type": "code",
   "execution_count": null,
   "metadata": {},
   "outputs": [],
   "source": [
    "#shift\n",
    "fb_finance = pd.read_csv('C:/Users/LocalAdmin/Documents/Python/Untitled Folder/FB.csv')\n",
    "fb_finance.head()"
   ]
  },
  {
   "cell_type": "code",
   "execution_count": null,
   "metadata": {},
   "outputs": [],
   "source": [
    "fb_finance.shift(1).head()"
   ]
  },
  {
   "cell_type": "code",
   "execution_count": null,
   "metadata": {},
   "outputs": [],
   "source": [
    "fb_finance.shift(-1).head()"
   ]
  },
  {
   "cell_type": "code",
   "execution_count": null,
   "metadata": {},
   "outputs": [],
   "source": [
    "#calculate stock price delta\n",
    "fb_finance['previous_closing_price']=fb_finance['Close'].shift(1)\n",
    "fb_finance.head()"
   ]
  },
  {
   "cell_type": "code",
   "execution_count": null,
   "metadata": {},
   "outputs": [],
   "source": [
    "fb_finance['previous_closing_price'] = fb_finance['previous_closing_price']-fb_finance['Close']\n",
    "fb_finance.head()"
   ]
  },
  {
   "cell_type": "code",
   "execution_count": null,
   "metadata": {},
   "outputs": [],
   "source": [
    "fb_finance['weekly returns'] = (fb_finance['Close']-fb_finance['Close'].shift(7))/fb_finance['Close']*100\n",
    "fb_finance"
   ]
  },
  {
   "cell_type": "code",
   "execution_count": null,
   "metadata": {},
   "outputs": [],
   "source": []
  },
  {
   "cell_type": "code",
   "execution_count": null,
   "metadata": {},
   "outputs": [],
   "source": [
    "#write to csv\n",
    "fb_finance.to_csv('C:/Users/LocalAdmin/Documents/Python/Untitled Folder/FB.csv')"
   ]
  },
  {
   "cell_type": "code",
   "execution_count": null,
   "metadata": {},
   "outputs": [],
   "source": [
    "#write to csv columns\n",
    "fb_finance.to_csv('C:/Users/LocalAdmin/Documents/Python/Untitled Folder/FB.csv', columns=['Volume','weekly returns'])"
   ]
  },
  {
   "cell_type": "code",
   "execution_count": null,
   "metadata": {},
   "outputs": [],
   "source": []
  }
 ],
 "metadata": {
  "kernelspec": {
   "display_name": "Python 3",
   "language": "python",
   "name": "python3"
  },
  "language_info": {
   "codemirror_mode": {
    "name": "ipython",
    "version": 3
   },
   "file_extension": ".py",
   "mimetype": "text/x-python",
   "name": "python",
   "nbconvert_exporter": "python",
   "pygments_lexer": "ipython3",
   "version": "3.6.4"
  }
 },
 "nbformat": 4,
 "nbformat_minor": 2
}
